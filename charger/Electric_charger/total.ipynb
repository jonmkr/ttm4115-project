{
 "cells": [
  {
   "cell_type": "code",
   "execution_count": 10,
   "metadata": {},
   "outputs": [
    {
     "data": {
      "application/vnd.jupyter.widget-view+json": {
       "model_id": "60d79b40de214d89861231862dc56c84",
       "version_major": 2,
       "version_minor": 0
      },
      "text/plain": [
       "Image(value=b'\\x89PNG\\r\\n\\x1a\\n\\x00\\x00\\x00\\rIHDR\\x00\\x00\\x00O\\x00\\x00\\x00O\\x08\\x02\\x00\\x00\\x00%V\\x0f\\xd1\\x00\\…"
      ]
     },
     "metadata": {},
     "output_type": "display_data"
    },
    {
     "data": {
      "application/vnd.jupyter.widget-view+json": {
       "model_id": "64b3b952f2eb4fdcb9d7f6d7c3905eab",
       "version_major": 2,
       "version_minor": 0
      },
      "text/plain": [
       "Button(description='Start', style=ButtonStyle())"
      ]
     },
     "metadata": {},
     "output_type": "display_data"
    },
    {
     "data": {
      "application/vnd.jupyter.widget-view+json": {
       "model_id": "fc01a1ca718b4b3b897382e97b62c18f",
       "version_major": 2,
       "version_minor": 0
      },
      "text/plain": [
       "Button(description='Stop', style=ButtonStyle())"
      ]
     },
     "metadata": {},
     "output_type": "display_data"
    },
    {
     "name": "stderr",
     "output_type": "stream",
     "text": [
      "/var/folders/7h/sbcvcpps61951x9b2lxcqd8w0000gn/T/ipykernel_81273/1960982729.py:47: DeprecationWarning: Callback API version 1 is deprecated, update to latest version\n",
      "  self.mqtt_client = mqtt.Client(callback_api_version = mqtt.CallbackAPIVersion.VERSION1)\n"
     ]
    },
    {
     "ename": "gaierror",
     "evalue": "[Errno 8] nodename nor servname provided, or not known",
     "output_type": "error",
     "traceback": [
      "\u001b[0;31m---------------------------------------------------------------------------\u001b[0m",
      "\u001b[0;31mgaierror\u001b[0m                                  Traceback (most recent call last)",
      "Cell \u001b[0;32mIn[10], line 75\u001b[0m\n\u001b[1;32m     71\u001b[0m         \u001b[38;5;28;01melif\u001b[39;00m topic \u001b[38;5;241m==\u001b[39m \u001b[38;5;124m\"\u001b[39m\u001b[38;5;124mreserved\u001b[39m\u001b[38;5;124m\"\u001b[39m \u001b[38;5;129;01mand\u001b[39;00m payload \u001b[38;5;241m==\u001b[39m \u001b[38;5;124m\"\u001b[39m\u001b[38;5;124mreserved\u001b[39m\u001b[38;5;124m\"\u001b[39m:\n\u001b[1;32m     72\u001b[0m             \u001b[38;5;28mself\u001b[39m\u001b[38;5;241m.\u001b[39mstm\u001b[38;5;241m.\u001b[39msend(\u001b[38;5;124m\"\u001b[39m\u001b[38;5;124mreserved\u001b[39m\u001b[38;5;124m\"\u001b[39m)\n\u001b[0;32m---> 75\u001b[0m traffic \u001b[38;5;241m=\u001b[39m \u001b[43mChargingStation\u001b[49m\u001b[43m(\u001b[49m\u001b[43m)\u001b[49m\n\u001b[1;32m     76\u001b[0m \u001b[38;5;66;03m# Definerer tilstandene for ladestasjonen\u001b[39;00m\n\u001b[1;32m     77\u001b[0m t0 \u001b[38;5;241m=\u001b[39m {\u001b[38;5;124m'\u001b[39m\u001b[38;5;124msource\u001b[39m\u001b[38;5;124m'\u001b[39m: \u001b[38;5;124m'\u001b[39m\u001b[38;5;124minitial\u001b[39m\u001b[38;5;124m'\u001b[39m, \u001b[38;5;124m'\u001b[39m\u001b[38;5;124mtarget\u001b[39m\u001b[38;5;124m'\u001b[39m: \u001b[38;5;124m'\u001b[39m\u001b[38;5;124mfree\u001b[39m\u001b[38;5;124m'\u001b[39m}\n",
      "Cell \u001b[0;32mIn[10], line 50\u001b[0m, in \u001b[0;36mChargingStation.__init__\u001b[0;34m(self)\u001b[0m\n\u001b[1;32m     48\u001b[0m \u001b[38;5;28mself\u001b[39m\u001b[38;5;241m.\u001b[39mmqtt_client\u001b[38;5;241m.\u001b[39mon_connect \u001b[38;5;241m=\u001b[39m \u001b[38;5;28mself\u001b[39m\u001b[38;5;241m.\u001b[39mon_mqtt_connect\n\u001b[1;32m     49\u001b[0m \u001b[38;5;28mself\u001b[39m\u001b[38;5;241m.\u001b[39mmqtt_client\u001b[38;5;241m.\u001b[39mon_message \u001b[38;5;241m=\u001b[39m \u001b[38;5;28mself\u001b[39m\u001b[38;5;241m.\u001b[39mon_mqtt_message\n\u001b[0;32m---> 50\u001b[0m \u001b[38;5;28;43mself\u001b[39;49m\u001b[38;5;241;43m.\u001b[39;49m\u001b[43mmqtt_client\u001b[49m\u001b[38;5;241;43m.\u001b[39;49m\u001b[43mconnect\u001b[49m\u001b[43m(\u001b[49m\u001b[38;5;124;43m\"\u001b[39;49m\u001b[38;5;124;43mmqtt://broker.hivemq.com\u001b[39;49m\u001b[38;5;124;43m\"\u001b[39;49m\u001b[43m,\u001b[49m\u001b[43m \u001b[49m\u001b[38;5;241;43m1883\u001b[39;49m\u001b[43m)\u001b[49m\n\u001b[1;32m     51\u001b[0m \u001b[38;5;28mself\u001b[39m\u001b[38;5;241m.\u001b[39mmqtt_client\u001b[38;5;241m.\u001b[39msubscribe(\u001b[38;5;124m\"\u001b[39m\u001b[38;5;124mcharging_status\u001b[39m\u001b[38;5;124m\"\u001b[39m)\n\u001b[1;32m     52\u001b[0m \u001b[38;5;28mself\u001b[39m\u001b[38;5;241m.\u001b[39mmqtt_client\u001b[38;5;241m.\u001b[39msubscribe(\u001b[38;5;124m\"\u001b[39m\u001b[38;5;124mreserved\u001b[39m\u001b[38;5;124m\"\u001b[39m)\n",
      "File \u001b[0;32m/Library/Frameworks/Python.framework/Versions/3.11/lib/python3.11/site-packages/paho/mqtt/client.py:1429\u001b[0m, in \u001b[0;36mClient.connect\u001b[0;34m(self, host, port, keepalive, bind_address, bind_port, clean_start, properties)\u001b[0m\n\u001b[1;32m   1425\u001b[0m         \u001b[38;5;28;01mraise\u001b[39;00m \u001b[38;5;167;01mValueError\u001b[39;00m(\u001b[38;5;124m\"\u001b[39m\u001b[38;5;124mProperties only apply to MQTT V5\u001b[39m\u001b[38;5;124m\"\u001b[39m)\n\u001b[1;32m   1427\u001b[0m \u001b[38;5;28mself\u001b[39m\u001b[38;5;241m.\u001b[39mconnect_async(host, port, keepalive,\n\u001b[1;32m   1428\u001b[0m                    bind_address, bind_port, clean_start, properties)\n\u001b[0;32m-> 1429\u001b[0m \u001b[38;5;28;01mreturn\u001b[39;00m \u001b[38;5;28;43mself\u001b[39;49m\u001b[38;5;241;43m.\u001b[39;49m\u001b[43mreconnect\u001b[49m\u001b[43m(\u001b[49m\u001b[43m)\u001b[49m\n",
      "File \u001b[0;32m/Library/Frameworks/Python.framework/Versions/3.11/lib/python3.11/site-packages/paho/mqtt/client.py:1592\u001b[0m, in \u001b[0;36mClient.reconnect\u001b[0;34m(self)\u001b[0m\n\u001b[1;32m   1589\u001b[0m         \u001b[38;5;28;01mif\u001b[39;00m \u001b[38;5;129;01mnot\u001b[39;00m \u001b[38;5;28mself\u001b[39m\u001b[38;5;241m.\u001b[39msuppress_exceptions:\n\u001b[1;32m   1590\u001b[0m             \u001b[38;5;28;01mraise\u001b[39;00m\n\u001b[0;32m-> 1592\u001b[0m \u001b[38;5;28mself\u001b[39m\u001b[38;5;241m.\u001b[39m_sock \u001b[38;5;241m=\u001b[39m \u001b[38;5;28;43mself\u001b[39;49m\u001b[38;5;241;43m.\u001b[39;49m\u001b[43m_create_socket\u001b[49m\u001b[43m(\u001b[49m\u001b[43m)\u001b[49m\n\u001b[1;32m   1594\u001b[0m \u001b[38;5;28mself\u001b[39m\u001b[38;5;241m.\u001b[39m_sock\u001b[38;5;241m.\u001b[39msetblocking(\u001b[38;5;28;01mFalse\u001b[39;00m)  \u001b[38;5;66;03m# type: ignore[attr-defined]\u001b[39;00m\n\u001b[1;32m   1595\u001b[0m \u001b[38;5;28mself\u001b[39m\u001b[38;5;241m.\u001b[39m_registered_write \u001b[38;5;241m=\u001b[39m \u001b[38;5;28;01mFalse\u001b[39;00m\n",
      "File \u001b[0;32m/Library/Frameworks/Python.framework/Versions/3.11/lib/python3.11/site-packages/paho/mqtt/client.py:4598\u001b[0m, in \u001b[0;36mClient._create_socket\u001b[0;34m(self)\u001b[0m\n\u001b[1;32m   4597\u001b[0m \u001b[38;5;28;01mdef\u001b[39;00m \u001b[38;5;21m_create_socket\u001b[39m(\u001b[38;5;28mself\u001b[39m) \u001b[38;5;241m-\u001b[39m\u001b[38;5;241m>\u001b[39m SocketLike:\n\u001b[0;32m-> 4598\u001b[0m     sock \u001b[38;5;241m=\u001b[39m \u001b[38;5;28;43mself\u001b[39;49m\u001b[38;5;241;43m.\u001b[39;49m\u001b[43m_create_socket_connection\u001b[49m\u001b[43m(\u001b[49m\u001b[43m)\u001b[49m\n\u001b[1;32m   4599\u001b[0m     \u001b[38;5;28;01mif\u001b[39;00m \u001b[38;5;28mself\u001b[39m\u001b[38;5;241m.\u001b[39m_ssl:\n\u001b[1;32m   4600\u001b[0m         sock \u001b[38;5;241m=\u001b[39m \u001b[38;5;28mself\u001b[39m\u001b[38;5;241m.\u001b[39m_ssl_wrap_socket(sock)\n",
      "File \u001b[0;32m/Library/Frameworks/Python.framework/Versions/3.11/lib/python3.11/site-packages/paho/mqtt/client.py:4623\u001b[0m, in \u001b[0;36mClient._create_socket_connection\u001b[0;34m(self)\u001b[0m\n\u001b[1;32m   4621\u001b[0m     \u001b[38;5;28;01mreturn\u001b[39;00m socks\u001b[38;5;241m.\u001b[39mcreate_connection(addr, timeout\u001b[38;5;241m=\u001b[39m\u001b[38;5;28mself\u001b[39m\u001b[38;5;241m.\u001b[39m_connect_timeout, source_address\u001b[38;5;241m=\u001b[39msource, \u001b[38;5;241m*\u001b[39m\u001b[38;5;241m*\u001b[39mproxy)\n\u001b[1;32m   4622\u001b[0m \u001b[38;5;28;01melse\u001b[39;00m:\n\u001b[0;32m-> 4623\u001b[0m     \u001b[38;5;28;01mreturn\u001b[39;00m \u001b[43msocket\u001b[49m\u001b[38;5;241;43m.\u001b[39;49m\u001b[43mcreate_connection\u001b[49m\u001b[43m(\u001b[49m\u001b[43maddr\u001b[49m\u001b[43m,\u001b[49m\u001b[43m \u001b[49m\u001b[43mtimeout\u001b[49m\u001b[38;5;241;43m=\u001b[39;49m\u001b[38;5;28;43mself\u001b[39;49m\u001b[38;5;241;43m.\u001b[39;49m\u001b[43m_connect_timeout\u001b[49m\u001b[43m,\u001b[49m\u001b[43m \u001b[49m\u001b[43msource_address\u001b[49m\u001b[38;5;241;43m=\u001b[39;49m\u001b[43msource\u001b[49m\u001b[43m)\u001b[49m\n",
      "File \u001b[0;32m/Library/Frameworks/Python.framework/Versions/3.11/lib/python3.11/socket.py:827\u001b[0m, in \u001b[0;36mcreate_connection\u001b[0;34m(address, timeout, source_address, all_errors)\u001b[0m\n\u001b[1;32m    825\u001b[0m host, port \u001b[38;5;241m=\u001b[39m address\n\u001b[1;32m    826\u001b[0m exceptions \u001b[38;5;241m=\u001b[39m []\n\u001b[0;32m--> 827\u001b[0m \u001b[38;5;28;01mfor\u001b[39;00m res \u001b[38;5;129;01min\u001b[39;00m \u001b[43mgetaddrinfo\u001b[49m\u001b[43m(\u001b[49m\u001b[43mhost\u001b[49m\u001b[43m,\u001b[49m\u001b[43m \u001b[49m\u001b[43mport\u001b[49m\u001b[43m,\u001b[49m\u001b[43m \u001b[49m\u001b[38;5;241;43m0\u001b[39;49m\u001b[43m,\u001b[49m\u001b[43m \u001b[49m\u001b[43mSOCK_STREAM\u001b[49m\u001b[43m)\u001b[49m:\n\u001b[1;32m    828\u001b[0m     af, socktype, proto, canonname, sa \u001b[38;5;241m=\u001b[39m res\n\u001b[1;32m    829\u001b[0m     sock \u001b[38;5;241m=\u001b[39m \u001b[38;5;28;01mNone\u001b[39;00m\n",
      "File \u001b[0;32m/Library/Frameworks/Python.framework/Versions/3.11/lib/python3.11/socket.py:962\u001b[0m, in \u001b[0;36mgetaddrinfo\u001b[0;34m(host, port, family, type, proto, flags)\u001b[0m\n\u001b[1;32m    959\u001b[0m \u001b[38;5;66;03m# We override this function since we want to translate the numeric family\u001b[39;00m\n\u001b[1;32m    960\u001b[0m \u001b[38;5;66;03m# and socket type values to enum constants.\u001b[39;00m\n\u001b[1;32m    961\u001b[0m addrlist \u001b[38;5;241m=\u001b[39m []\n\u001b[0;32m--> 962\u001b[0m \u001b[38;5;28;01mfor\u001b[39;00m res \u001b[38;5;129;01min\u001b[39;00m \u001b[43m_socket\u001b[49m\u001b[38;5;241;43m.\u001b[39;49m\u001b[43mgetaddrinfo\u001b[49m\u001b[43m(\u001b[49m\u001b[43mhost\u001b[49m\u001b[43m,\u001b[49m\u001b[43m \u001b[49m\u001b[43mport\u001b[49m\u001b[43m,\u001b[49m\u001b[43m \u001b[49m\u001b[43mfamily\u001b[49m\u001b[43m,\u001b[49m\u001b[43m \u001b[49m\u001b[38;5;28;43mtype\u001b[39;49m\u001b[43m,\u001b[49m\u001b[43m \u001b[49m\u001b[43mproto\u001b[49m\u001b[43m,\u001b[49m\u001b[43m \u001b[49m\u001b[43mflags\u001b[49m\u001b[43m)\u001b[49m:\n\u001b[1;32m    963\u001b[0m     af, socktype, proto, canonname, sa \u001b[38;5;241m=\u001b[39m res\n\u001b[1;32m    964\u001b[0m     addrlist\u001b[38;5;241m.\u001b[39mappend((_intenum_converter(af, AddressFamily),\n\u001b[1;32m    965\u001b[0m                      _intenum_converter(socktype, SocketKind),\n\u001b[1;32m    966\u001b[0m                      proto, canonname, sa))\n",
      "\u001b[0;31mgaierror\u001b[0m: [Errno 8] nodename nor servname provided, or not known"
     ]
    }
   ],
   "source": [
    "import ipywidgets as widgets\n",
    "from IPython.display import display\n",
    "from stmpy import Machine, Driver\n",
    "import paho.mqtt.client as mqtt\n",
    "from threading import Thread\n",
    "import logging\n",
    "\n",
    "class Tick:\n",
    "    def __init__(self):\n",
    "        self.ticks = 0\n",
    "        self.tocks = 0\n",
    "\n",
    "    def send_mqtt_tick(self):\n",
    "        print(\"Tick! {}\".format(self.ticks))\n",
    "        self.ticks = self.ticks + 1\n",
    "        self.mqtt_client.publish(\"tick\", self.ticks)\n",
    "\n",
    "    def send_mqtt_tock(self):\n",
    "        print(\"Tock! {}\".format(self.tocks))\n",
    "        self.tocks = self.tocks + 1\n",
    "        self.mqtt_client.publish(\"tock\", self.ticks)\n",
    "\n",
    "class ChargingStation:\n",
    "    \n",
    "    def load_images(self):\n",
    "        self.free = open(\"images/green_on.png\", \"rb\").read()\n",
    "        self.charging = open(\"images/yellow_on.png\", \"rb\").read()\n",
    "        self.full = open(\"images/red_on.png\", \"rb\").read()\n",
    "        \n",
    "    def on_button_start(self, b):\n",
    "        self.stm.send('start')\n",
    "        \n",
    "    def on_button_stop(self, b):\n",
    "        self.stm.send('stop')\n",
    "        \n",
    "    def display(self):\n",
    "        self.button_start = widgets.Button(description=\"Start\")\n",
    "        self.button_start.on_click(self.on_button_start)\n",
    "        self.button_stop = widgets.Button(description=\"Stop\")\n",
    "        self.button_stop.on_click(self.on_button_stop)\n",
    "        self.station = widgets.Image(value=self.free, format='png', width=50, height=50)\n",
    "        display(self.station, self.button_start, self.button_stop)\n",
    "        \n",
    "    def __init__(self):\n",
    "        self.load_images()\n",
    "        self.display()\n",
    "        self.mqtt_client = mqtt.Client(callback_api_version = mqtt.CallbackAPIVersion.VERSION1)\n",
    "        self.mqtt_client.on_connect = self.on_mqtt_connect\n",
    "        self.mqtt_client.on_message = self.on_mqtt_message\n",
    "        self.mqtt_client.connect(\"mqtt://broker.hivemq.com\", 1883)\n",
    "        self.mqtt_client.subscribe(\"charging_status\")\n",
    "        self.mqtt_client.subscribe(\"reserved\")\n",
    "        \n",
    "    def turn_free_on(self):\n",
    "        self.station.set_trait(name='value', value=self.free)\n",
    "        \n",
    "    def turn_charging_on(self):\n",
    "        self.station.set_trait(name='value', value=self.charging)\n",
    "        \n",
    "    def turn_full_on(self):\n",
    "        self.station.set_trait(name='value', value=self.full)\n",
    "        \n",
    "    def on_mqtt_connect(self, client, userdata, flags, rc):\n",
    "        logging.info(\"Connected to MQTT broker with result code \"+str(rc))\n",
    "        \n",
    "    def on_mqtt_message(self, client, userdata, message):\n",
    "        topic = message.topic\n",
    "        payload = message.payload.decode()\n",
    "        if topic == \"charging_status\" and payload == \"start\":\n",
    "            self.stm.send(\"start\")\n",
    "        elif topic == \"reserved\" and payload == \"reserved\":\n",
    "            self.stm.send(\"reserved\")\n",
    "\n",
    "\n",
    "traffic = ChargingStation()\n",
    "# Definerer tilstandene for ladestasjonen\n",
    "t0 = {'source': 'initial', 'target': 'free'}\n",
    "t1 = {'trigger':'start', 'source':'free', 'target':'charging', 'effect':'turn_charging_on'}\n",
    "t2 = {'trigger':'stop', 'source':'charging', 'target':'full', 'effect':'turn_full_on'}\n",
    "t3 = {'trigger':'start', 'source':'full', 'target':'free', 'effect':'turn_free_on'}\n",
    "t4 = {'trigger':'reserved', 'source':'free', 'target':'full', 'effect':'turn_full_on'}\n",
    "\n",
    "stm_traffic = Machine(name='stm_traffic', transitions=[t0, t1, t2, t3, t4], obj=traffic)\n",
    "\n",
    "traffic.stm = stm_traffic\n",
    "\n",
    "driver = Driver()\n",
    "driver.add_machine(stm_traffic)\n",
    "driver.start()\n",
    "\n",
    "logger = logging.getLogger('stmpy.Driver')\n",
    "logger.setLevel(logging.INFO)\n",
    "ch = logging.StreamHandler()\n",
    "ch.setLevel(logging.INFO)\n",
    "formatter = logging.Formatter('%(asctime)s - %(name)s - %(levelname)s - %(message)s')\n",
    "ch.setFormatter(formatter)\n",
    "logger.addHandler(ch)\n",
    "\n",
    "logger = logging.getLogger('stmpy.Machine')\n",
    "logger.setLevel(logging.INFO)\n",
    "ch = logging.StreamHandler()\n",
    "ch.setLevel(logging.INFO)\n",
    "formatter = logging.Formatter('%(asctime)s - %(name)s - %(levelname)s - %(message)s')\n",
    "ch.setFormatter(formatter)\n",
    "logger.addHandler(ch)\n",
    "\n",
    "%config Application.log_level=\"INFO\""
   ]
  },
  {
   "cell_type": "code",
   "execution_count": null,
   "metadata": {},
   "outputs": [],
   "source": []
  }
 ],
 "metadata": {
  "kernelspec": {
   "display_name": "Python 3",
   "language": "python",
   "name": "python3"
  },
  "language_info": {
   "codemirror_mode": {
    "name": "ipython",
    "version": 3
   },
   "file_extension": ".py",
   "mimetype": "text/x-python",
   "name": "python",
   "nbconvert_exporter": "python",
   "pygments_lexer": "ipython3",
   "version": "3.10.11"
  }
 },
 "nbformat": 4,
 "nbformat_minor": 2
}
