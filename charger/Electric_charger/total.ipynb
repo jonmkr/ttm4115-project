{
 "cells": [
  {
   "cell_type": "code",
   "execution_count": 1,
   "metadata": {},
   "outputs": [
    {
     "data": {
      "application/vnd.jupyter.widget-view+json": {
       "model_id": "55d71091951243819e2400370a10a9ac",
       "version_major": 2,
       "version_minor": 0
      },
      "text/plain": [
       "Image(value=b'\\x89PNG\\r\\n\\x1a\\n\\x00\\x00\\x00\\rIHDR\\x00\\x00\\x00O\\x00\\x00\\x00O\\x08\\x02\\x00\\x00\\x00%V\\x0f\\xd1\\x00\\…"
      ]
     },
     "metadata": {},
     "output_type": "display_data"
    },
    {
     "data": {
      "application/vnd.jupyter.widget-view+json": {
       "model_id": "6889fb5689c94d6aa759cd28409d8888",
       "version_major": 2,
       "version_minor": 0
      },
      "text/plain": [
       "Button(description='Start', style=ButtonStyle())"
      ]
     },
     "metadata": {},
     "output_type": "display_data"
    },
    {
     "data": {
      "application/vnd.jupyter.widget-view+json": {
       "model_id": "0ab989c1aff444b4968388bb406f085f",
       "version_major": 2,
       "version_minor": 0
      },
      "text/plain": [
       "Button(description='Stop', style=ButtonStyle())"
      ]
     },
     "metadata": {},
     "output_type": "display_data"
    },
    {
     "name": "stderr",
     "output_type": "stream",
     "text": [
      "Exception ignored in: <function Client.__del__ at 0x1052704a0>\n",
      "Traceback (most recent call last):\n",
      "  File \"/Library/Frameworks/Python.framework/Versions/3.11/lib/python3.11/site-packages/paho/mqtt/client.py\", line 874, in __del__\n",
      "    self._reset_sockets()\n",
      "  File \"/Library/Frameworks/Python.framework/Versions/3.11/lib/python3.11/site-packages/paho/mqtt/client.py\", line 1133, in _reset_sockets\n",
      "    self._sock_close()\n",
      "  File \"/Library/Frameworks/Python.framework/Versions/3.11/lib/python3.11/site-packages/paho/mqtt/client.py\", line 1119, in _sock_close\n",
      "    if not self._sock:\n",
      "           ^^^^^^^^^^\n",
      "AttributeError: 'Client' object has no attribute '_sock'\n"
     ]
    },
    {
     "ename": "TypeError",
     "evalue": "Client.__init__() missing 1 required positional argument: 'callback_api_version'",
     "output_type": "error",
     "traceback": [
      "\u001b[0;31m---------------------------------------------------------------------------\u001b[0m",
      "\u001b[0;31mTypeError\u001b[0m                                 Traceback (most recent call last)",
      "Cell \u001b[0;32mIn[1], line 61\u001b[0m\n\u001b[1;32m     57\u001b[0m         \u001b[38;5;28;01melif\u001b[39;00m topic \u001b[38;5;241m==\u001b[39m \u001b[38;5;124m\"\u001b[39m\u001b[38;5;124mreserved\u001b[39m\u001b[38;5;124m\"\u001b[39m \u001b[38;5;129;01mand\u001b[39;00m payload \u001b[38;5;241m==\u001b[39m \u001b[38;5;124m\"\u001b[39m\u001b[38;5;124mreserved\u001b[39m\u001b[38;5;124m\"\u001b[39m:\n\u001b[1;32m     58\u001b[0m             \u001b[38;5;28mself\u001b[39m\u001b[38;5;241m.\u001b[39mstm\u001b[38;5;241m.\u001b[39msend(\u001b[38;5;124m\"\u001b[39m\u001b[38;5;124mreserved\u001b[39m\u001b[38;5;124m\"\u001b[39m)\n\u001b[0;32m---> 61\u001b[0m traffic \u001b[38;5;241m=\u001b[39m \u001b[43mChargingStation\u001b[49m\u001b[43m(\u001b[49m\u001b[43m)\u001b[49m\n\u001b[1;32m     62\u001b[0m \u001b[38;5;66;03m# Definerer tilstandene for ladestasjonen\u001b[39;00m\n\u001b[1;32m     63\u001b[0m t0 \u001b[38;5;241m=\u001b[39m {\u001b[38;5;124m'\u001b[39m\u001b[38;5;124msource\u001b[39m\u001b[38;5;124m'\u001b[39m: \u001b[38;5;124m'\u001b[39m\u001b[38;5;124minitial\u001b[39m\u001b[38;5;124m'\u001b[39m, \u001b[38;5;124m'\u001b[39m\u001b[38;5;124mtarget\u001b[39m\u001b[38;5;124m'\u001b[39m: \u001b[38;5;124m'\u001b[39m\u001b[38;5;124mfree\u001b[39m\u001b[38;5;124m'\u001b[39m}\n",
      "Cell \u001b[0;32mIn[1], line 32\u001b[0m, in \u001b[0;36mChargingStation.__init__\u001b[0;34m(self)\u001b[0m\n\u001b[1;32m     30\u001b[0m \u001b[38;5;28mself\u001b[39m\u001b[38;5;241m.\u001b[39mload_images()\n\u001b[1;32m     31\u001b[0m \u001b[38;5;28mself\u001b[39m\u001b[38;5;241m.\u001b[39mdisplay()\n\u001b[0;32m---> 32\u001b[0m \u001b[38;5;28mself\u001b[39m\u001b[38;5;241m.\u001b[39mmqtt_client \u001b[38;5;241m=\u001b[39m \u001b[43mmqtt\u001b[49m\u001b[38;5;241;43m.\u001b[39;49m\u001b[43mClient\u001b[49m\u001b[43m(\u001b[49m\u001b[43m)\u001b[49m\n\u001b[1;32m     33\u001b[0m \u001b[38;5;28mself\u001b[39m\u001b[38;5;241m.\u001b[39mmqtt_client\u001b[38;5;241m.\u001b[39mon_connect \u001b[38;5;241m=\u001b[39m \u001b[38;5;28mself\u001b[39m\u001b[38;5;241m.\u001b[39mon_mqtt_connect\n\u001b[1;32m     34\u001b[0m \u001b[38;5;28mself\u001b[39m\u001b[38;5;241m.\u001b[39mmqtt_client\u001b[38;5;241m.\u001b[39mon_message \u001b[38;5;241m=\u001b[39m \u001b[38;5;28mself\u001b[39m\u001b[38;5;241m.\u001b[39mon_mqtt_message\n",
      "\u001b[0;31mTypeError\u001b[0m: Client.__init__() missing 1 required positional argument: 'callback_api_version'"
     ]
    },
    {
     "ename": "AttributeError",
     "evalue": "'ChargingStation' object has no attribute 'stm'",
     "output_type": "error",
     "traceback": [
      "\u001b[0;31m---------------------------------------------------------------------------\u001b[0m",
      "\u001b[0;31mAttributeError\u001b[0m                            Traceback (most recent call last)",
      "Cell \u001b[0;32mIn[1], line 16\u001b[0m, in \u001b[0;36mChargingStation.on_button_start\u001b[0;34m(self, b)\u001b[0m\n\u001b[1;32m     15\u001b[0m \u001b[38;5;28;01mdef\u001b[39;00m \u001b[38;5;21mon_button_start\u001b[39m(\u001b[38;5;28mself\u001b[39m, b):\n\u001b[0;32m---> 16\u001b[0m     \u001b[38;5;28;43mself\u001b[39;49m\u001b[38;5;241;43m.\u001b[39;49m\u001b[43mstm\u001b[49m\u001b[38;5;241m.\u001b[39msend(\u001b[38;5;124m'\u001b[39m\u001b[38;5;124mstart\u001b[39m\u001b[38;5;124m'\u001b[39m)\n",
      "\u001b[0;31mAttributeError\u001b[0m: 'ChargingStation' object has no attribute 'stm'"
     ]
    },
    {
     "ename": "AttributeError",
     "evalue": "'ChargingStation' object has no attribute 'stm'",
     "output_type": "error",
     "traceback": [
      "\u001b[0;31m---------------------------------------------------------------------------\u001b[0m",
      "\u001b[0;31mAttributeError\u001b[0m                            Traceback (most recent call last)",
      "Cell \u001b[0;32mIn[1], line 16\u001b[0m, in \u001b[0;36mChargingStation.on_button_start\u001b[0;34m(self, b)\u001b[0m\n\u001b[1;32m     15\u001b[0m \u001b[38;5;28;01mdef\u001b[39;00m \u001b[38;5;21mon_button_start\u001b[39m(\u001b[38;5;28mself\u001b[39m, b):\n\u001b[0;32m---> 16\u001b[0m     \u001b[38;5;28;43mself\u001b[39;49m\u001b[38;5;241;43m.\u001b[39;49m\u001b[43mstm\u001b[49m\u001b[38;5;241m.\u001b[39msend(\u001b[38;5;124m'\u001b[39m\u001b[38;5;124mstart\u001b[39m\u001b[38;5;124m'\u001b[39m)\n",
      "\u001b[0;31mAttributeError\u001b[0m: 'ChargingStation' object has no attribute 'stm'"
     ]
    },
    {
     "ename": "AttributeError",
     "evalue": "'ChargingStation' object has no attribute 'stm'",
     "output_type": "error",
     "traceback": [
      "\u001b[0;31m---------------------------------------------------------------------------\u001b[0m",
      "\u001b[0;31mAttributeError\u001b[0m                            Traceback (most recent call last)",
      "Cell \u001b[0;32mIn[1], line 16\u001b[0m, in \u001b[0;36mChargingStation.on_button_start\u001b[0;34m(self, b)\u001b[0m\n\u001b[1;32m     15\u001b[0m \u001b[38;5;28;01mdef\u001b[39;00m \u001b[38;5;21mon_button_start\u001b[39m(\u001b[38;5;28mself\u001b[39m, b):\n\u001b[0;32m---> 16\u001b[0m     \u001b[38;5;28;43mself\u001b[39;49m\u001b[38;5;241;43m.\u001b[39;49m\u001b[43mstm\u001b[49m\u001b[38;5;241m.\u001b[39msend(\u001b[38;5;124m'\u001b[39m\u001b[38;5;124mstart\u001b[39m\u001b[38;5;124m'\u001b[39m)\n",
      "\u001b[0;31mAttributeError\u001b[0m: 'ChargingStation' object has no attribute 'stm'"
     ]
    },
    {
     "ename": "AttributeError",
     "evalue": "'ChargingStation' object has no attribute 'stm'",
     "output_type": "error",
     "traceback": [
      "\u001b[0;31m---------------------------------------------------------------------------\u001b[0m",
      "\u001b[0;31mAttributeError\u001b[0m                            Traceback (most recent call last)",
      "Cell \u001b[0;32mIn[1], line 19\u001b[0m, in \u001b[0;36mChargingStation.on_button_stop\u001b[0;34m(self, b)\u001b[0m\n\u001b[1;32m     18\u001b[0m \u001b[38;5;28;01mdef\u001b[39;00m \u001b[38;5;21mon_button_stop\u001b[39m(\u001b[38;5;28mself\u001b[39m, b):\n\u001b[0;32m---> 19\u001b[0m     \u001b[38;5;28;43mself\u001b[39;49m\u001b[38;5;241;43m.\u001b[39;49m\u001b[43mstm\u001b[49m\u001b[38;5;241m.\u001b[39msend(\u001b[38;5;124m'\u001b[39m\u001b[38;5;124mstop\u001b[39m\u001b[38;5;124m'\u001b[39m)\n",
      "\u001b[0;31mAttributeError\u001b[0m: 'ChargingStation' object has no attribute 'stm'"
     ]
    },
    {
     "ename": "AttributeError",
     "evalue": "'ChargingStation' object has no attribute 'stm'",
     "output_type": "error",
     "traceback": [
      "\u001b[0;31m---------------------------------------------------------------------------\u001b[0m",
      "\u001b[0;31mAttributeError\u001b[0m                            Traceback (most recent call last)",
      "Cell \u001b[0;32mIn[1], line 19\u001b[0m, in \u001b[0;36mChargingStation.on_button_stop\u001b[0;34m(self, b)\u001b[0m\n\u001b[1;32m     18\u001b[0m \u001b[38;5;28;01mdef\u001b[39;00m \u001b[38;5;21mon_button_stop\u001b[39m(\u001b[38;5;28mself\u001b[39m, b):\n\u001b[0;32m---> 19\u001b[0m     \u001b[38;5;28;43mself\u001b[39;49m\u001b[38;5;241;43m.\u001b[39;49m\u001b[43mstm\u001b[49m\u001b[38;5;241m.\u001b[39msend(\u001b[38;5;124m'\u001b[39m\u001b[38;5;124mstop\u001b[39m\u001b[38;5;124m'\u001b[39m)\n",
      "\u001b[0;31mAttributeError\u001b[0m: 'ChargingStation' object has no attribute 'stm'"
     ]
    },
    {
     "ename": "AttributeError",
     "evalue": "'ChargingStation' object has no attribute 'stm'",
     "output_type": "error",
     "traceback": [
      "\u001b[0;31m---------------------------------------------------------------------------\u001b[0m",
      "\u001b[0;31mAttributeError\u001b[0m                            Traceback (most recent call last)",
      "Cell \u001b[0;32mIn[1], line 19\u001b[0m, in \u001b[0;36mChargingStation.on_button_stop\u001b[0;34m(self, b)\u001b[0m\n\u001b[1;32m     18\u001b[0m \u001b[38;5;28;01mdef\u001b[39;00m \u001b[38;5;21mon_button_stop\u001b[39m(\u001b[38;5;28mself\u001b[39m, b):\n\u001b[0;32m---> 19\u001b[0m     \u001b[38;5;28;43mself\u001b[39;49m\u001b[38;5;241;43m.\u001b[39;49m\u001b[43mstm\u001b[49m\u001b[38;5;241m.\u001b[39msend(\u001b[38;5;124m'\u001b[39m\u001b[38;5;124mstop\u001b[39m\u001b[38;5;124m'\u001b[39m)\n",
      "\u001b[0;31mAttributeError\u001b[0m: 'ChargingStation' object has no attribute 'stm'"
     ]
    },
    {
     "ename": "AttributeError",
     "evalue": "'ChargingStation' object has no attribute 'stm'",
     "output_type": "error",
     "traceback": [
      "\u001b[0;31m---------------------------------------------------------------------------\u001b[0m",
      "\u001b[0;31mAttributeError\u001b[0m                            Traceback (most recent call last)",
      "Cell \u001b[0;32mIn[1], line 16\u001b[0m, in \u001b[0;36mChargingStation.on_button_start\u001b[0;34m(self, b)\u001b[0m\n\u001b[1;32m     15\u001b[0m \u001b[38;5;28;01mdef\u001b[39;00m \u001b[38;5;21mon_button_start\u001b[39m(\u001b[38;5;28mself\u001b[39m, b):\n\u001b[0;32m---> 16\u001b[0m     \u001b[38;5;28;43mself\u001b[39;49m\u001b[38;5;241;43m.\u001b[39;49m\u001b[43mstm\u001b[49m\u001b[38;5;241m.\u001b[39msend(\u001b[38;5;124m'\u001b[39m\u001b[38;5;124mstart\u001b[39m\u001b[38;5;124m'\u001b[39m)\n",
      "\u001b[0;31mAttributeError\u001b[0m: 'ChargingStation' object has no attribute 'stm'"
     ]
    }
   ],
   "source": [
    "import ipywidgets as widgets\n",
    "from IPython.display import display\n",
    "from stmpy import Machine, Driver\n",
    "import paho.mqtt.client as mqtt\n",
    "from threading import Thread\n",
    "import logging\n",
    "\n",
    "class ChargingStation:\n",
    "    \n",
    "    def load_images(self):\n",
    "        self.free = open(\"images/green_on.png\", \"rb\").read()\n",
    "        self.charging = open(\"images/yellow_on.png\", \"rb\").read()\n",
    "        self.full = open(\"images/red_on.png\", \"rb\").read()\n",
    "        \n",
    "    def on_button_start(self, b):\n",
    "        self.stm.send('start')\n",
    "        \n",
    "    def on_button_stop(self, b):\n",
    "        self.stm.send('stop')\n",
    "        \n",
    "    def display(self):\n",
    "        self.button_start = widgets.Button(description=\"Start\")\n",
    "        self.button_start.on_click(self.on_button_start)\n",
    "        self.button_stop = widgets.Button(description=\"Stop\")\n",
    "        self.button_stop.on_click(self.on_button_stop)\n",
    "        self.station = widgets.Image(value=self.free, format='png', width=50, height=50)\n",
    "        display(self.station, self.button_start, self.button_stop)\n",
    "        \n",
    "    def __init__(self):\n",
    "        self.load_images()\n",
    "        self.display()\n",
    "        self.mqtt_client = mqtt.Client()\n",
    "        self.mqtt_client.on_connect = self.on_mqtt_connect\n",
    "        self.mqtt_client.on_message = self.on_mqtt_message\n",
    "        self.mqtt_client.connect(\"Broker@broker.emqx.io\", 1883)\n",
    "        self.mqtt_client.subscribe(\"charging_status\")\n",
    "        self.mqtt_client.subscribe(\"reserved\")\n",
    "        self.stm = None\n",
    "        \n",
    "    def turn_free_on(self):\n",
    "        self.station.set_trait(name='value', value=self.free)\n",
    "        \n",
    "    def turn_charging_on(self):\n",
    "        self.station.set_trait(name='value', value=self.charging)\n",
    "        \n",
    "    def turn_full_on(self):\n",
    "        self.station.set_trait(name='value', value=self.full)\n",
    "        \n",
    "    def on_mqtt_connect(self, client, userdata, flags, rc):\n",
    "        logging.info(\"Connected to MQTT broker with result code \"+str(rc))\n",
    "        \n",
    "    def on_mqtt_message(self, client, userdata, message):\n",
    "        topic = message.topic\n",
    "        payload = message.payload.decode()\n",
    "        if topic == \"charging_status\" and payload == \"start\":\n",
    "            self.stm.send(\"start\")\n",
    "        elif topic == \"reserved\" and payload == \"reserved\":\n",
    "            self.stm.send(\"reserved\")\n",
    "        \n",
    "\n",
    "traffic = ChargingStation()\n",
    "# Definerer tilstandene for ladestasjonen\n",
    "t0 = {'source': 'initial', 'target': 'free'}\n",
    "t1 = {'trigger':'start', 'source':'free', 'target':'charging', 'effect':'turn_charging_on'}\n",
    "t2 = {'trigger':'stop', 'source':'charging', 'target':'full', 'effect':'turn_full_on'}\n",
    "t3 = {'trigger':'start', 'source':'full', 'target':'free', 'effect':'turn_free_on'}\n",
    "t4 = {'trigger':'reserved', 'source':'free', 'target':'full', 'effect':'turn_full_on'}\n",
    "\n",
    "stm_traffic = Machine(name='stm_traffic', transitions=[t0, t1, t2, t3, t4], obj=traffic)\n",
    "\n",
    "traffic.stm = stm_traffic\n",
    "\n",
    "driver = Driver()\n",
    "driver.add_machine(stm_traffic)\n",
    "driver.start()\n",
    "\n",
    "logger = logging.getLogger('stmpy.Driver')\n",
    "logger.setLevel(logging.INFO)\n",
    "ch = logging.StreamHandler()\n",
    "ch.setLevel(logging.INFO)\n",
    "formatter = logging.Formatter('%(asctime)s - %(name)s - %(levelname)s - %(message)s')\n",
    "ch.setFormatter(formatter)\n",
    "logger.addHandler(ch)\n",
    "\n",
    "logger = logging.getLogger('stmpy.Machine')\n",
    "logger.setLevel(logging.INFO)\n",
    "ch = logging.StreamHandler()\n",
    "ch.setLevel(logging.INFO)\n",
    "formatter = logging.Formatter('%(asctime)s - %(name)s - %(levelname)s - %(message)s')\n",
    "ch.setFormatter(formatter)\n",
    "logger.addHandler(ch)\n",
    "\n",
    "%config Application.log_level=\"INFO\"\n",
    "\n"
   ]
  },
  {
   "cell_type": "code",
   "execution_count": null,
   "metadata": {},
   "outputs": [],
   "source": []
  }
 ],
 "metadata": {
  "kernelspec": {
   "display_name": "Python 3",
   "language": "python",
   "name": "python3"
  },
  "language_info": {
   "codemirror_mode": {
    "name": "ipython",
    "version": 3
   },
   "file_extension": ".py",
   "mimetype": "text/x-python",
   "name": "python",
   "nbconvert_exporter": "python",
   "pygments_lexer": "ipython3",
   "version": "3.11.5"
  }
 },
 "nbformat": 4,
 "nbformat_minor": 2
}
