{
 "cells": [
  {
   "cell_type": "code",
   "execution_count": 3,
   "metadata": {},
   "outputs": [
    {
     "data": {
      "text/plain": [
       "['chargerstatemachine.ipynb',\n",
       " 'images',\n",
       " 'logic.py',\n",
       " 'statemachinefabian.py',\n",
       " 'total.ipynb',\n",
       " 'ui.ipynb']"
      ]
     },
     "execution_count": 3,
     "metadata": {},
     "output_type": "execute_result"
    }
   ],
   "source": [
    "from stmpy import Machine, Driver\n",
    "\n",
    "import ipywidgets as widgets\n",
    "from IPython.display import display\n",
    "\n",
    "import os\n",
    "\n",
    "os.listdir()"
   ]
  },
  {
   "cell_type": "code",
   "execution_count": 4,
   "metadata": {},
   "outputs": [
    {
     "data": {
      "application/vnd.jupyter.widget-view+json": {
       "model_id": "f2d64a4207ee480bbc00864b035d1401",
       "version_major": 2,
       "version_minor": 0
      },
      "text/plain": [
       "Text(value='', description='String:', placeholder='')"
      ]
     },
     "metadata": {},
     "output_type": "display_data"
    },
    {
     "data": {
      "application/vnd.jupyter.widget-view+json": {
       "model_id": "185440db6615410c881242c8af922778",
       "version_major": 2,
       "version_minor": 0
      },
      "text/plain": [
       "Button(description='Start charging', style=ButtonStyle())"
      ]
     },
     "metadata": {},
     "output_type": "display_data"
    },
    {
     "data": {
      "application/vnd.jupyter.widget-view+json": {
       "model_id": "aac0dfb9a5e04caf84a8201fe207e8c4",
       "version_major": 2,
       "version_minor": 0
      },
      "text/plain": [
       "Button(description='Reserve charger', style=ButtonStyle())"
      ]
     },
     "metadata": {},
     "output_type": "display_data"
    },
    {
     "data": {
      "application/vnd.jupyter.widget-view+json": {
       "model_id": "379935e99b96491fab70410763ca47c0",
       "version_major": 2,
       "version_minor": 0
      },
      "text/plain": [
       "Button(description='Stop charger', style=ButtonStyle())"
      ]
     },
     "metadata": {},
     "output_type": "display_data"
    }
   ],
   "source": [
    "\n",
    "\n",
    "class Charger:\n",
    "\n",
    "    def load_images(self):\n",
    "        self.start = open(\"images/green_on.png\", \"rb\").read()\n",
    "        self.reserve = open(\"images/yellow_on.png\", \"rb\").read()\n",
    "        self.stop = open(\"images/red_on.png\", \"rb\").read()\n",
    "\n",
    "    # Send a message to start charging\n",
    "    def on_button_start(self, b_start):\n",
    "        self.stm.send(\"start_charging\")\n",
    "\n",
    "    def on_button_reserve(self, b_reserve):\n",
    "        self.stm.send(\"reserve_charger\")\n",
    "\n",
    "    def on_button_stop(self, b_stop):\n",
    "        self.stm.send(\"stop_charger\")\n",
    "\n",
    "    def display(self):\n",
    "        # Buttons\n",
    "        self.button_start = widgets.Button(description=\"Start charging\")\n",
    "        self.button_start.on_click(self.on_button_start)\n",
    "\n",
    "        self.button_reserve = widgets.Button(description=\"Reserve charger\")\n",
    "        self.button_reserve.on_click(self.on_button_reserve)\n",
    "\n",
    "        self.button_stop = widgets.Button(description=\"Stop charger\")\n",
    "        self.button_stop.on_click(self.on_button_stop)\n",
    "\n",
    "        # Text field to display states\n",
    "        self.text = widgets.Text(value='', placeholder='', description='String:', disabled = False)\n",
    "        display(self.text,  self.button_start, self.button_reserve, self.button_stop)\n",
    "\n",
    "\n",
    "    def __init__(self):\n",
    "        self.load_images()\n",
    "        self.display()\n",
    "\n",
    "\n",
    "\n",
    "    def available(self):\n",
    "        test = test\n",
    "\n",
    "    def reserved(self):\n",
    "        test = test\n",
    "\n",
    "    def ban_user(self):\n",
    "        test = test\n",
    "\n",
    "    def charging(self):\n",
    "        test = test\n",
    "    \n",
    "    def charging_battery_full(self):\n",
    "        test = test\n",
    "\n",
    "    def overcharge(self):\n",
    "        test = test\n",
    "\n",
    "    def finish_charging(self):\n",
    "        test = test\n",
    "\n",
    "charger = Charger()\n",
    "#Initial transitiion\n",
    "t0 = {'source':'initial',\n",
    "      'target':'spinning'}\n",
    "\n",
    "#Transition from available to reserved\n",
    "t1 = {'trigger':'reserve_charger',\n",
    "      'source':'available',\n",
    "      'target':'reserved'}\n",
    "\n",
    "#Transition from reserved to ban_user\n",
    "\n",
    "t2 = {'trigger':'start_charging',\n",
    "      'source':'reserved',\n",
    "      'target':'ban_user'}\n",
    "\n",
    "#Transition from availble to charging\n",
    "t3 = {'trigger': 'start_charging',\n",
    "      'source':'available',\n",
    "      'target':'charging'}\n",
    "\n",
    "#Transition from charging to finish_charging\n",
    "t4 = {'trigger':'charging_stopped',\n",
    "      'source': 'charging',\n",
    "      'target':'finish_charging'}\n",
    "\n",
    "#Transition from charging to charging_battery_full\n",
    "t5 = {'trigger':'battery_full',\n",
    "      'source':'charging',\n",
    "      'target':'charging_battery_full'}\n",
    "\n",
    "#Transition from charging_battery_full to finish_charging\n",
    "t6 = {'trigger':'charging_stopped',\n",
    "      'source':'charging_battery_full',\n",
    "      'target':'finish_charging'}\n",
    "\n",
    "#Transition from charging_battery_full to overcharge\n",
    "t7 = {'trigger':'t1',\n",
    "      'source':'charging_battery_full',\n",
    "      'target':'overcharge'}\n",
    "\n",
    "#Transition from overcharge to finish_charging\n",
    "t8 = {'trigger':'charging_stopped',\n",
    "      'source':'overcharge',\n",
    "      'target':'finish_charging'}\n",
    "\n",
    "#Transition from finish_charging to available\n",
    "t9 = {'trigger':'charger_available',\n",
    "      'source':'finish_charging',\n",
    "      'target':'available'}\n",
    "\n",
    "#Transition from ban_user to available\n",
    "t10 = {'trigger':'charger_available',\n",
    "       'source':'ban_user',\n",
    "       'target':'available'}\n",
    "\n",
    "\n",
    "# STATES\n",
    "\n",
    "available = {'name':'available'}\n",
    "\n",
    "reserved = {'name':'reserved',\n",
    "            'entry':'start_timer(\"t1\", 150000)'}\n",
    "\n",
    "ban_user = {'name':'ban_user',\n",
    "            'entry':'user_timeout'}\n",
    "\n",
    "charging = {'name':'charging',\n",
    "            'entry':'start_payment; lock_plug; start_power'}\n",
    "\n",
    "charging_battery_full = {'name':'charging_battery_full',\n",
    "                         'entry':'start_timer(\"t2\", 150000)'}\n",
    "\n",
    "overcharge = {'name':'overcharge',\n",
    "              'entry':'start_overchargepayment'}\n",
    "\n",
    "finish_charging = {'name':'finish_charging',\n",
    "                   'entry':'stop_power; stop_payment; stop_overchargepayment; unlock_plug; charge_customer;'}\n",
    "\n",
    "\n",
    "\n",
    "machine = Machine(name=\"charger\", transitions=[t0,t1,t2,t3,t4,t5,t6,t7,t8,t9,t10], obj=charger, states=[available, reserved, ban_user, charging, charging_battery_full, overcharge, finish_charging])\n",
    "charger.stm = machine\n",
    "\n",
    "driver = Driver()\n",
    "driver.add_machine(machine)\n",
    "driver.start()"
   ]
  },
  {
   "cell_type": "code",
   "execution_count": null,
   "metadata": {},
   "outputs": [],
   "source": []
  }
 ],
 "metadata": {
  "kernelspec": {
   "display_name": "Python 3",
   "language": "python",
   "name": "python3"
  },
  "language_info": {
   "codemirror_mode": {
    "name": "ipython",
    "version": 3
   },
   "file_extension": ".py",
   "mimetype": "text/x-python",
   "name": "python",
   "nbconvert_exporter": "python",
   "pygments_lexer": "ipython3",
   "version": "3.10.11"
  }
 },
 "nbformat": 4,
 "nbformat_minor": 2
}
