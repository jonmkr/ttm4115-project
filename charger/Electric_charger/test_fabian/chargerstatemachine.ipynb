{
 "cells": [
  {
   "cell_type": "code",
   "execution_count": 1,
   "metadata": {},
   "outputs": [],
   "source": [
    "from stmpy import Machine, Driver\n",
    "\n",
    "import ipywidgets as widgets\n",
    "from IPython.display import display\n"
   ]
  },
  {
   "cell_type": "code",
   "execution_count": 13,
   "metadata": {},
   "outputs": [
    {
     "data": {
      "application/vnd.jupyter.widget-view+json": {
       "model_id": "3da1f88f5c76435b99f86031bef1a05d",
       "version_major": 2,
       "version_minor": 0
      },
      "text/plain": [
       "Text(value='', description='State:', placeholder='')"
      ]
     },
     "metadata": {},
     "output_type": "display_data"
    },
    {
     "data": {
      "application/vnd.jupyter.widget-view+json": {
       "model_id": "0a4b9a4ec79d477085e7f538ce3a0681",
       "version_major": 2,
       "version_minor": 0
      },
      "text/plain": [
       "Text(value='', description='Enter reservation code:', placeholder='')"
      ]
     },
     "metadata": {},
     "output_type": "display_data"
    },
    {
     "data": {
      "application/vnd.jupyter.widget-view+json": {
       "model_id": "3f7988e010ae442ca5072a2a12b342b4",
       "version_major": 2,
       "version_minor": 0
      },
      "text/plain": [
       "Button(description='Start charging', style=ButtonStyle())"
      ]
     },
     "metadata": {},
     "output_type": "display_data"
    },
    {
     "data": {
      "application/vnd.jupyter.widget-view+json": {
       "model_id": "105fcad2ff7f4830a126a0086b3ddcb3",
       "version_major": 2,
       "version_minor": 0
      },
      "text/plain": [
       "Button(description='Reserve charger', style=ButtonStyle())"
      ]
     },
     "metadata": {},
     "output_type": "display_data"
    },
    {
     "data": {
      "application/vnd.jupyter.widget-view+json": {
       "model_id": "f75f0bd7ed8241a9a0516b3f38535833",
       "version_major": 2,
       "version_minor": 0
      },
      "text/plain": [
       "Button(description='Stop charger', style=ButtonStyle())"
      ]
     },
     "metadata": {},
     "output_type": "display_data"
    }
   ],
   "source": [
    "## Test parameters\n",
    "\n",
    "\n",
    "\n",
    "class Charger:\n",
    "\n",
    "    def load_images(self):\n",
    "        self.start = open(\"../images/green_on.png\", \"rb\").read()\n",
    "        self.reserve = open(\"../images/yellow_on.png\", \"rb\").read()\n",
    "        self.stop = open(\"../images/red_on.png\", \"rb\").read()\n",
    "\n",
    "    # Send a message to start charging\n",
    "    def on_button_start(self, b):\n",
    "        self.stm.send(\"start_charging\")\n",
    "\n",
    "    def on_button_reserve(self, b):\n",
    "        self.stm.send(\"reserve_charger\")\n",
    "\n",
    "    def on_button_stop(self, b):\n",
    "        self.stm.send(\"stop_charger\")\n",
    "\n",
    "    def display(self):\n",
    "        # Buttons\n",
    "        self.button_start = widgets.Button(description=\"Start charging\")\n",
    "        self.button_start.on_click(self.on_button_start)\n",
    "\n",
    "        self.button_reserve = widgets.Button(description=\"Reserve charger\")\n",
    "        self.button_reserve.on_click(self.on_button_reserve)\n",
    "\n",
    "        self.button_stop = widgets.Button(description=\"Stop charger\")\n",
    "        self.button_stop.on_click(self.on_button_stop)\n",
    "\n",
    "        # Text field to display states\n",
    "        self.text1 = widgets.Text(value='', placeholder='', description='State:', disabled = True)\n",
    "        self.text2 = widgets.Text(value='', placeholder='', description='Enter reservation code:', disabled = False)\n",
    "        display(self.text1, self.text2, self.button_start, self.button_reserve, self.button_stop)\n",
    "\n",
    "\n",
    "    def __init__(self):\n",
    "        self.load_images()\n",
    "        self.display()\n",
    "        global chargingcode_test\n",
    "        chargingcode_test = \"test\"\n",
    "\n",
    "\n",
    "\n",
    "\n",
    "    def func_available(self):\n",
    "        self.text1.set_trait(name=\"value\", value=\"Available\")\n",
    "\n",
    "    def func_reserved(self):\n",
    "        self.text1.set_trait(name=\"value\", value=\"Reserved\")\n",
    "        self.button_reserve.layout.visibility = 'hidden'\n",
    "\n",
    "    def check_chargingcode(self):\n",
    "        if self.text2.value == chargingcode_test:\n",
    "            return 'charging'\n",
    "        else:\n",
    "            return 'reserved'\n",
    "\n",
    "    def func_charging(self):\n",
    "        self.text1.set_trait(name=\"value\", value=\"Charging\")\n",
    "\n",
    "    def func_charging_battery_full(self):\n",
    "        self.text1.set_trait(name=\"value\", value=\"Charging with full battery\")\n",
    "\n",
    "    def func_overcharge(self):\n",
    "        self.text1.set_trait(name=\"value\", value=\"Overcharging\")\n",
    "\n",
    "    def func_finish_charging(self):\n",
    "        self.text1.set_trait(name=\"value\", value=\"Finished charging\")\n",
    "\n",
    "    def start_payment(self):\n",
    "        return\n",
    "    \n",
    "    def stop_payment(self):\n",
    "        return\n",
    "    \n",
    "    def start_overchargepayment(self):\n",
    "        return\n",
    "    \n",
    "    def stop_overchargepayment(self):\n",
    "        return\n",
    "    \n",
    "    def lock_plug(self):\n",
    "        return\n",
    "    \n",
    "    def unlock_plug(self):\n",
    "        return\n",
    "    def charge_customer(self):\n",
    "        return\n",
    "\n",
    "    def start_power(self):\n",
    "        return\n",
    "    \n",
    "    def stop_power(self):\n",
    "        return\n",
    "\n",
    "charger = Charger()\n",
    "#Initial transition\n",
    "t0 = {'source':'initial',\n",
    "      'target':'available'}\n",
    "\n",
    "#Transition from available to reserved\n",
    "t1 = {'trigger':'reserve_charger',\n",
    "      'source':'available',\n",
    "      'target':'reserved'}\n",
    "\n",
    "\n",
    "#Transition from availble to charging\n",
    "t2 = {'trigger': 'start_charging',\n",
    "      'source':'available',\n",
    "      'target':'charging'}\n",
    "\n",
    "#Transition from charging to finish_charging\n",
    "t3 = {'trigger':'stop_charger',\n",
    "      'source': 'charging',\n",
    "      'target':'finish_charging'}\n",
    "\n",
    "#Transition from charging to charging_battery_full\n",
    "t4 = {'trigger':'t3',\n",
    "      'source':'charging',\n",
    "      'target':'charging_battery_full'}\n",
    "\n",
    "#Transition from charging_battery_full to finish_charging\n",
    "t5 = {'trigger':'stop_charger',\n",
    "      'source':'charging_battery_full',\n",
    "      'target':'finish_charging'}\n",
    "\n",
    "#Transition from charging_battery_full to overcharge\n",
    "t6 = {'trigger':'t2',\n",
    "      'source':'charging_battery_full',\n",
    "      'target':'overcharge'}\n",
    "\n",
    "#Transition from overcharge to finish_charging\n",
    "t7 = {'trigger':'stop_charger',\n",
    "      'source':'overcharge',\n",
    "      'target':'finish_charging'}\n",
    "\n",
    "#Transition from finish_charging to available\n",
    "t8 = {'trigger':'charger_available',\n",
    "      'source':'finish_charging',\n",
    "      'target':'available'}\n",
    "\n",
    "#Transition from reserved to available\n",
    "t9 = {'trigger':'t1',\n",
    "      'source':'reserved',\n",
    "      'target':'available'}\n",
    "\n",
    "#Transition from reserved to charging\n",
    "t10 = {'trigger':'start_charging',\n",
    "       'source':'reserved',\n",
    "       'function': charger.check_chargingcode,\n",
    "       'effect':'stop_timer(\"t1\")'}\n",
    "\n",
    "# STATES\n",
    "\n",
    "available = {'name':'available',\n",
    "             'entry':'func_available' }\n",
    "\n",
    "reserved = {'name':'reserved',\n",
    "            'entry':'func_reserved; start_timer(\"t1\", 10000)'}\n",
    "\n",
    "charging = {'name':'charging',\n",
    "            'entry':'func_charging; start_payment; lock_plug; start_power; start_timer(\"t3\", 1000)'}\n",
    "\n",
    "charging_battery_full = {'name':'charging_battery_full',\n",
    "                         'entry':'func_charging_battery_full; start_timer(\"t2\", 1000)'}\n",
    "\n",
    "overcharge = {'name':'overcharge',\n",
    "              'entry':'start_overchargepayment; func_overcharge'}\n",
    "\n",
    "finish_charging = {'name':'finish_charging',\n",
    "                   'entry':'func_finish_charging; stop_power; stop_payment; stop_overchargepayment; unlock_plug; charge_customer;'}\n",
    "\n",
    "\n",
    "\n",
    "machine = Machine(name=\"charger\", transitions=[t0,t1,t2,t3,t4,t5,t6,t7,t8,t9, t10], obj=charger, states=[available, reserved, charging, charging_battery_full, overcharge, finish_charging])\n",
    "charger.stm = machine\n",
    "\n",
    "driver = Driver()\n",
    "driver.add_machine(machine)\n",
    "driver.start()"
   ]
  },
  {
   "cell_type": "code",
   "execution_count": null,
   "metadata": {},
   "outputs": [],
   "source": []
  }
 ],
 "metadata": {
  "kernelspec": {
   "display_name": "Python 3",
   "language": "python",
   "name": "python3"
  },
  "language_info": {
   "codemirror_mode": {
    "name": "ipython",
    "version": 3
   },
   "file_extension": ".py",
   "mimetype": "text/x-python",
   "name": "python",
   "nbconvert_exporter": "python",
   "pygments_lexer": "ipython3",
   "version": "3.10.11"
  }
 },
 "nbformat": 4,
 "nbformat_minor": 2
}
