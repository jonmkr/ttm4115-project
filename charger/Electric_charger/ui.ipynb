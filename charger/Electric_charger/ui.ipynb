{
 "cells": [
  {
   "cell_type": "code",
   "execution_count": 16,
   "metadata": {},
   "outputs": [],
   "source": [
    "import ipywidgets as widgets\n",
    "from IPython.display import display\n",
    "from stmpy import Machine, Driver\n",
    "\n",
    "class ChargingStation:\n",
    "    \n",
    "    def load_images(self):\n",
    "        self.free = open(\"images/green_on.png\", \"rb\").read()\n",
    "        self.charging = open(\"images/yellow_on.png\", \"rb\").read()\n",
    "        self.full = open(\"images/red_on.png\", \"rb\").read()\n",
    "        \n",
    "    def on_button_start(self, b):\n",
    "        self.stm.send('start')\n",
    "        \n",
    "    def on_button_stop(self, b):\n",
    "        self.stm.send('stop')\n",
    "        \n",
    "    def display(self):\n",
    "        self.button_start = widgets.Button(description=\"Start\")\n",
    "        self.button_start.on_click(self.on_button_start)\n",
    "        self.button_stop = widgets.Button(description=\"Stop\")\n",
    "        self.button_stop.on_click(self.on_button_stop)\n",
    "        self.station = widgets.Image(value=self.free, format='png', width=50, height=50)\n",
    "        display(self.station, self.button_start, self.button_stop)\n",
    "        \n",
    "    def __init__(self):\n",
    "        self.load_images()\n",
    "        self.display()\n",
    "        \n",
    "    def turn_free_on(self):\n",
    "        self.station.set_trait(name='value', value=self.free)\n",
    "        \n",
    "    def turn_charging_on(self):\n",
    "        self.station.set_trait(name='value', value=self.charging)\n",
    "        \n",
    "    def turn_full_on(self):\n",
    "        self.station.set_trait(name='value', value=self.full)"
   ]
  },
  {
   "cell_type": "code",
   "execution_count": 17,
   "metadata": {},
   "outputs": [
    {
     "data": {
      "application/vnd.jupyter.widget-view+json": {
       "model_id": "84ec2a41971542b9a5db53625c5111e8",
       "version_major": 2,
       "version_minor": 0
      },
      "text/plain": [
       "Image(value=b'\\x89PNG\\r\\n\\x1a\\n\\x00\\x00\\x00\\rIHDR\\x00\\x00\\x00O\\x00\\x00\\x00O\\x08\\x02\\x00\\x00\\x00%V\\x0f\\xd1\\x00\\…"
      ]
     },
     "metadata": {},
     "output_type": "display_data"
    },
    {
     "data": {
      "application/vnd.jupyter.widget-view+json": {
       "model_id": "f1e63db6436240d1a04381f0fd9d420d",
       "version_major": 2,
       "version_minor": 0
      },
      "text/plain": [
       "Button(description='Start', style=ButtonStyle())"
      ]
     },
     "metadata": {},
     "output_type": "display_data"
    },
    {
     "data": {
      "application/vnd.jupyter.widget-view+json": {
       "model_id": "9b1d5d2aa87e4d19b88888b121d9c4e4",
       "version_major": 2,
       "version_minor": 0
      },
      "text/plain": [
       "Button(description='Stop', style=ButtonStyle())"
      ]
     },
     "metadata": {},
     "output_type": "display_data"
    },
    {
     "name": "stderr",
     "output_type": "stream",
     "text": [
      "Machine stm_traffic is in state full and received event stop, but no transition with this event is declared!\n",
      "Machine stm_traffic is in state full and received event stop, but no transition with this event is declared!\n",
      "Machine stm_traffic is in state full and received event stop, but no transition with this event is declared!\n",
      "Machine stm_traffic is in state free and received event stop, but no transition with this event is declared!\n",
      "Machine stm_traffic is in state free and received event stop, but no transition with this event is declared!\n",
      "Machine stm_traffic is in state charging and received event start, but no transition with this event is declared!\n",
      "Machine stm_traffic is in state charging and received event start, but no transition with this event is declared!\n",
      "Machine stm_traffic is in state charging and received event start, but no transition with this event is declared!\n",
      "Machine stm_traffic is in state charging and received event start, but no transition with this event is declared!\n"
     ]
    }
   ],
   "source": [
    "import logging\n",
    "\n",
    "traffic = ChargingStation()\n",
    "\n",
    "# Definerer tilstandene for ladestasjonen\n",
    "t0 = {'source': 'initial', 'target': 'free'}\n",
    "t1 = {'trigger':'start', 'source':'free', 'target':'charging', 'effect':'turn_charging_on'}\n",
    "t2 = {'trigger':'stop', 'source':'charging', 'target':'full', 'effect':'turn_full_on'}\n",
    "t3 = {'trigger':'start', 'source':'full', 'target':'free', 'effect':'turn_free_on'}\n",
    "\n",
    "stm_traffic = Machine(name='stm_traffic', transitions=[t0, t1, t2, t3], obj=traffic)\n",
    "traffic.stm = stm_traffic\n",
    "\n",
    "logger = logging.getLogger('stmpy.Driver')\n",
    "logger.setLevel(logging.INFO)\n",
    "ch = logging.StreamHandler()\n",
    "ch.setLevel(logging.INFO)\n",
    "formatter = logging.Formatter('%(asctime)s - %(name)s - %(levelname)s - %(message)s')\n",
    "ch.setFormatter(formatter)\n",
    "logger.addHandler(ch)\n",
    "\n",
    "logger = logging.getLogger('stmpy.Machine')\n",
    "logger.setLevel(logging.INFO)\n",
    "ch = logging.StreamHandler()\n",
    "ch.setLevel(logging.INFO)\n",
    "formatter = logging.Formatter('%(asctime)s - %(name)s - %(levelname)s - %(message)s')\n",
    "ch.setFormatter(formatter)\n",
    "logger.addHandler(ch)\n",
    "\n",
    "%config Application.log_level=\"INFO\"\n",
    "    \n",
    "\n",
    "driver = Driver()\n",
    "driver.add_machine(stm_traffic)\n",
    "driver.start()"
   ]
  },
  {
   "cell_type": "code",
   "execution_count": null,
   "metadata": {},
   "outputs": [],
   "source": []
  }
 ],
 "metadata": {
  "kernelspec": {
   "display_name": "Python 3",
   "language": "python",
   "name": "python3"
  },
  "language_info": {
   "codemirror_mode": {
    "name": "ipython",
    "version": 3
   },
   "file_extension": ".py",
   "mimetype": "text/x-python",
   "name": "python",
   "nbconvert_exporter": "python",
   "pygments_lexer": "ipython3",
   "version": "3.11.5"
  }
 },
 "nbformat": 4,
 "nbformat_minor": 2
}
